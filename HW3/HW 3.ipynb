{
 "cells": [
  {
   "cell_type": "code",
   "execution_count": 1,
   "metadata": {},
   "outputs": [],
   "source": [
    "import numpy as np\n",
    "import pandas as pd\n",
    "import matplotlib.pyplot as plt\n",
    "\n",
    "from sklearn.model_selection import train_test_split\n",
    "\n",
    "import torch\n",
    "import torch.nn as nn\n",
    "from torchvision import transforms,models\n",
    "from torch.autograd import Variable\n",
    "from torch import optim\n",
    "from torch.utils.data import DataLoader, TensorDataset\n",
    "import torch.nn.functional as F"
   ]
  },
  {
   "cell_type": "code",
   "execution_count": 2,
   "metadata": {},
   "outputs": [
    {
     "data": {
      "text/html": [
       "<div>\n",
       "<style scoped>\n",
       "    .dataframe tbody tr th:only-of-type {\n",
       "        vertical-align: middle;\n",
       "    }\n",
       "\n",
       "    .dataframe tbody tr th {\n",
       "        vertical-align: top;\n",
       "    }\n",
       "\n",
       "    .dataframe thead th {\n",
       "        text-align: right;\n",
       "    }\n",
       "</style>\n",
       "<table border=\"1\" class=\"dataframe\">\n",
       "  <thead>\n",
       "    <tr style=\"text-align: right;\">\n",
       "      <th></th>\n",
       "      <th>label</th>\n",
       "      <th>pixel0</th>\n",
       "      <th>pixel1</th>\n",
       "      <th>pixel2</th>\n",
       "      <th>pixel3</th>\n",
       "      <th>pixel4</th>\n",
       "      <th>pixel5</th>\n",
       "      <th>pixel6</th>\n",
       "      <th>pixel7</th>\n",
       "      <th>pixel8</th>\n",
       "      <th>...</th>\n",
       "      <th>pixel774</th>\n",
       "      <th>pixel775</th>\n",
       "      <th>pixel776</th>\n",
       "      <th>pixel777</th>\n",
       "      <th>pixel778</th>\n",
       "      <th>pixel779</th>\n",
       "      <th>pixel780</th>\n",
       "      <th>pixel781</th>\n",
       "      <th>pixel782</th>\n",
       "      <th>pixel783</th>\n",
       "    </tr>\n",
       "  </thead>\n",
       "  <tbody>\n",
       "    <tr>\n",
       "      <th>0</th>\n",
       "      <td>1.0</td>\n",
       "      <td>0.0</td>\n",
       "      <td>0.0</td>\n",
       "      <td>0.0</td>\n",
       "      <td>0.0</td>\n",
       "      <td>0.0</td>\n",
       "      <td>0.0</td>\n",
       "      <td>0.0</td>\n",
       "      <td>0.0</td>\n",
       "      <td>0.0</td>\n",
       "      <td>...</td>\n",
       "      <td>0.0</td>\n",
       "      <td>0.0</td>\n",
       "      <td>0.0</td>\n",
       "      <td>0.0</td>\n",
       "      <td>0.0</td>\n",
       "      <td>0.0</td>\n",
       "      <td>0.0</td>\n",
       "      <td>0.0</td>\n",
       "      <td>0.0</td>\n",
       "      <td>0.0</td>\n",
       "    </tr>\n",
       "    <tr>\n",
       "      <th>1</th>\n",
       "      <td>0.0</td>\n",
       "      <td>0.0</td>\n",
       "      <td>0.0</td>\n",
       "      <td>0.0</td>\n",
       "      <td>0.0</td>\n",
       "      <td>0.0</td>\n",
       "      <td>0.0</td>\n",
       "      <td>0.0</td>\n",
       "      <td>0.0</td>\n",
       "      <td>0.0</td>\n",
       "      <td>...</td>\n",
       "      <td>0.0</td>\n",
       "      <td>0.0</td>\n",
       "      <td>0.0</td>\n",
       "      <td>0.0</td>\n",
       "      <td>0.0</td>\n",
       "      <td>0.0</td>\n",
       "      <td>0.0</td>\n",
       "      <td>0.0</td>\n",
       "      <td>0.0</td>\n",
       "      <td>0.0</td>\n",
       "    </tr>\n",
       "    <tr>\n",
       "      <th>2</th>\n",
       "      <td>1.0</td>\n",
       "      <td>0.0</td>\n",
       "      <td>0.0</td>\n",
       "      <td>0.0</td>\n",
       "      <td>0.0</td>\n",
       "      <td>0.0</td>\n",
       "      <td>0.0</td>\n",
       "      <td>0.0</td>\n",
       "      <td>0.0</td>\n",
       "      <td>0.0</td>\n",
       "      <td>...</td>\n",
       "      <td>0.0</td>\n",
       "      <td>0.0</td>\n",
       "      <td>0.0</td>\n",
       "      <td>0.0</td>\n",
       "      <td>0.0</td>\n",
       "      <td>0.0</td>\n",
       "      <td>0.0</td>\n",
       "      <td>0.0</td>\n",
       "      <td>0.0</td>\n",
       "      <td>0.0</td>\n",
       "    </tr>\n",
       "    <tr>\n",
       "      <th>3</th>\n",
       "      <td>4.0</td>\n",
       "      <td>0.0</td>\n",
       "      <td>0.0</td>\n",
       "      <td>0.0</td>\n",
       "      <td>0.0</td>\n",
       "      <td>0.0</td>\n",
       "      <td>0.0</td>\n",
       "      <td>0.0</td>\n",
       "      <td>0.0</td>\n",
       "      <td>0.0</td>\n",
       "      <td>...</td>\n",
       "      <td>0.0</td>\n",
       "      <td>0.0</td>\n",
       "      <td>0.0</td>\n",
       "      <td>0.0</td>\n",
       "      <td>0.0</td>\n",
       "      <td>0.0</td>\n",
       "      <td>0.0</td>\n",
       "      <td>0.0</td>\n",
       "      <td>0.0</td>\n",
       "      <td>0.0</td>\n",
       "    </tr>\n",
       "    <tr>\n",
       "      <th>4</th>\n",
       "      <td>0.0</td>\n",
       "      <td>0.0</td>\n",
       "      <td>0.0</td>\n",
       "      <td>0.0</td>\n",
       "      <td>0.0</td>\n",
       "      <td>0.0</td>\n",
       "      <td>0.0</td>\n",
       "      <td>0.0</td>\n",
       "      <td>0.0</td>\n",
       "      <td>0.0</td>\n",
       "      <td>...</td>\n",
       "      <td>0.0</td>\n",
       "      <td>0.0</td>\n",
       "      <td>0.0</td>\n",
       "      <td>0.0</td>\n",
       "      <td>0.0</td>\n",
       "      <td>0.0</td>\n",
       "      <td>0.0</td>\n",
       "      <td>0.0</td>\n",
       "      <td>0.0</td>\n",
       "      <td>0.0</td>\n",
       "    </tr>\n",
       "  </tbody>\n",
       "</table>\n",
       "<p>5 rows × 785 columns</p>\n",
       "</div>"
      ],
      "text/plain": [
       "   label  pixel0  pixel1  pixel2  pixel3  pixel4  pixel5  pixel6  pixel7  \\\n",
       "0    1.0     0.0     0.0     0.0     0.0     0.0     0.0     0.0     0.0   \n",
       "1    0.0     0.0     0.0     0.0     0.0     0.0     0.0     0.0     0.0   \n",
       "2    1.0     0.0     0.0     0.0     0.0     0.0     0.0     0.0     0.0   \n",
       "3    4.0     0.0     0.0     0.0     0.0     0.0     0.0     0.0     0.0   \n",
       "4    0.0     0.0     0.0     0.0     0.0     0.0     0.0     0.0     0.0   \n",
       "\n",
       "   pixel8  ...  pixel774  pixel775  pixel776  pixel777  pixel778  pixel779  \\\n",
       "0     0.0  ...       0.0       0.0       0.0       0.0       0.0       0.0   \n",
       "1     0.0  ...       0.0       0.0       0.0       0.0       0.0       0.0   \n",
       "2     0.0  ...       0.0       0.0       0.0       0.0       0.0       0.0   \n",
       "3     0.0  ...       0.0       0.0       0.0       0.0       0.0       0.0   \n",
       "4     0.0  ...       0.0       0.0       0.0       0.0       0.0       0.0   \n",
       "\n",
       "   pixel780  pixel781  pixel782  pixel783  \n",
       "0       0.0       0.0       0.0       0.0  \n",
       "1       0.0       0.0       0.0       0.0  \n",
       "2       0.0       0.0       0.0       0.0  \n",
       "3       0.0       0.0       0.0       0.0  \n",
       "4       0.0       0.0       0.0       0.0  \n",
       "\n",
       "[5 rows x 785 columns]"
      ]
     },
     "execution_count": 2,
     "metadata": {},
     "output_type": "execute_result"
    }
   ],
   "source": [
    "# 导入数据\n",
    "train=pd.read_csv(\"dataset\\\\train.csv\",dtype=np.float32)\n",
    "train.head()"
   ]
  },
  {
   "cell_type": "code",
   "execution_count": 3,
   "metadata": {},
   "outputs": [
    {
     "data": {
      "text/plain": [
       "dtype('float32')"
      ]
     },
     "execution_count": 3,
     "metadata": {},
     "output_type": "execute_result"
    }
   ],
   "source": [
    "y_np=train.label.values\n",
    "X_np=train.loc[:,train.columns!='label'].values/255\n",
    "y_np.dtype"
   ]
  },
  {
   "cell_type": "code",
   "execution_count": 4,
   "metadata": {},
   "outputs": [],
   "source": [
    "# 划分数据集\n",
    "X_train,X_test,y_train,y_test=train_test_split(X_np,y_np,test_size=0.1,random_state=123)"
   ]
  },
  {
   "cell_type": "code",
   "execution_count": 5,
   "metadata": {},
   "outputs": [],
   "source": [
    "# 转成Tensor\n",
    "Xt_train=torch.from_numpy(X_train)\n",
    "Xt_test=torch.from_numpy(X_test)\n",
    "yt_train=torch.from_numpy(y_train).type(torch.LongTensor)\n",
    "yt_test=torch.from_numpy(y_test).type(torch.LongTensor)"
   ]
  },
  {
   "cell_type": "code",
   "execution_count": 6,
   "metadata": {},
   "outputs": [],
   "source": [
    "# 合并成数据集\n",
    "train=TensorDataset(Xt_train,yt_train)\n",
    "test=TensorDataset(Xt_test,yt_test)\n",
    "\n",
    "trainloader=DataLoader(train,batch_size=256,shuffle=True)\n",
    "testloader=DataLoader(test,batch_size=256,shuffle=True)"
   ]
  },
  {
   "cell_type": "code",
   "execution_count": 56,
   "metadata": {},
   "outputs": [],
   "source": [
    "# 建立神经网络\n",
    "# 当作一个分类问题\n",
    "class Classfier(nn.Module):\n",
    "    def __init__(self):\n",
    "        super(Classfier,self).__init__()\n",
    "        self.fc1=nn.Linear(28*28,512)\n",
    "        self.fc2=nn.Linear(512,256)\n",
    "        self.fc3=nn.Linear(256,128)\n",
    "        self.fc4=nn.Linear(128,64)\n",
    "        self.fc5=nn.Linear(64,10)\n",
    "\n",
    "        self.dropout=nn.Dropout(p=0.1)\n",
    "        self.log_softmax=F.log_softmax\n",
    "    def forward(self,x):\n",
    "        x=self.dropout(F.relu(self.fc1(x)))\n",
    "        x=self.dropout(F.relu(self.fc2(x)))\n",
    "        x=self.dropout(F.relu(self.fc3(x)))\n",
    "        x=self.dropout(F.relu(self.fc4(x)))\n",
    "        # x=self.dropout(F.leaky_relu(self.fc1(x)))\n",
    "        # x=self.dropout(F.leaky_relu(self.fc2(x)))\n",
    "        # x=self.dropout(F.leaky_relu(self.fc3(x)))\n",
    "        # x=self.dropout(F.leaky_relu(self.fc4(x)))\n",
    "        x=self.log_softmax(self.fc5(x),dim=1)\n",
    "        return x\n"
   ]
  },
  {
   "cell_type": "code",
   "execution_count": 92,
   "metadata": {},
   "outputs": [],
   "source": [
    "# class CNN(nn.Module):\n",
    "#     def __init__(self):\n",
    "#         super(CNN, self).__init__()\n",
    "#         self.conv1 = nn.Conv2d(1, 32, kernel_size=5)\n",
    "#         self.conv2 = nn.Conv2d(32, 32, kernel_size=5)\n",
    "#         self.conv3 = nn.Conv2d(32,64, kernel_size=5)\n",
    "#         self.fc1 = nn.Linear(3*3*64, 256)\n",
    "#         self.fc2 = nn.Linear(256, 10)\n",
    "\n",
    "#     def forward(self, x):\n",
    "#         x = F.relu(self.conv1(x))\n",
    "#         #x = F.dropout(x, p=0.5, training=self.training)\n",
    "#         x = F.relu(F.max_pool2d(self.conv2(x), 2))\n",
    "#         x = F.dropout(x, p=0.5, training=self.training)\n",
    "#         x = F.relu(F.max_pool2d(self.conv3(x),2))\n",
    "#         x = F.dropout(x, p=0.5, training=self.training)\n",
    "#         x = x.view(-1,3*3*64 )\n",
    "#         x = F.relu(self.fc1(x))\n",
    "#         x = F.dropout(x, training=self.training)\n",
    "#         x = self.fc2(x)\n",
    "#         return F.log_softmax(x, dim=1)"
   ]
  },
  {
   "cell_type": "code",
   "execution_count": 57,
   "metadata": {},
   "outputs": [
    {
     "data": {
      "text/plain": [
       "Classfier(\n",
       "  (fc1): Linear(in_features=784, out_features=512, bias=True)\n",
       "  (fc2): Linear(in_features=512, out_features=256, bias=True)\n",
       "  (fc3): Linear(in_features=256, out_features=128, bias=True)\n",
       "  (fc4): Linear(in_features=128, out_features=64, bias=True)\n",
       "  (fc5): Linear(in_features=64, out_features=10, bias=True)\n",
       "  (dropout): Dropout(p=0.1, inplace=False)\n",
       ")"
      ]
     },
     "execution_count": 57,
     "metadata": {},
     "output_type": "execute_result"
    }
   ],
   "source": [
    "# model = Net([28*28,512,256,128,64,10])\n",
    "model = Classfier()\n",
    "model"
   ]
  },
  {
   "cell_type": "code",
   "execution_count": 60,
   "metadata": {},
   "outputs": [],
   "source": [
    "criterion=nn.CrossEntropyLoss()\n",
    "optimizer=optim.Adam(model.parameters(),lr=1e-4)\n",
    "# optimizer=optim.SGD(model.parameters(),lr=1e-4)\n",
    "# optimizer=optim.RMSprop(model.parameters(),lr=1e-4)\n",
    "epoches=10\n",
    "steps=0\n",
    "print_every=50\n",
    "train_losses,test_losses=[],[]\n",
    "# len(trainloader.dataset)/batch_size = num_batch"
   ]
  },
  {
   "cell_type": "code",
   "execution_count": 61,
   "metadata": {},
   "outputs": [
    {
     "name": "stdout",
     "output_type": "stream",
     "text": [
      "Epoch: 1/10..  Training Loss: 0.762..  Test Loss: 2.124..  Test Accuracy: 0.470\n",
      "Epoch: 1/10..  Training Loss: 1.340..  Test Loss: 1.120..  Test Accuracy: 0.708\n",
      "Epoch: 2/10..  Training Loss: 0.011..  Test Loss: 0.665..  Test Accuracy: 0.803\n",
      "Epoch: 2/10..  Training Loss: 0.243..  Test Loss: 0.537..  Test Accuracy: 0.847\n",
      "Epoch: 2/10..  Training Loss: 0.438..  Test Loss: 0.459..  Test Accuracy: 0.862\n",
      "Epoch: 3/10..  Training Loss: 0.014..  Test Loss: 0.416..  Test Accuracy: 0.877\n",
      "Epoch: 3/10..  Training Loss: 0.171..  Test Loss: 0.391..  Test Accuracy: 0.885\n",
      "Epoch: 3/10..  Training Loss: 0.321..  Test Loss: 0.367..  Test Accuracy: 0.889\n",
      "Epoch: 4/10..  Training Loss: 0.016..  Test Loss: 0.357..  Test Accuracy: 0.892\n",
      "Epoch: 4/10..  Training Loss: 0.152..  Test Loss: 0.336..  Test Accuracy: 0.898\n",
      "Epoch: 4/10..  Training Loss: 0.283..  Test Loss: 0.321..  Test Accuracy: 0.906\n",
      "Epoch: 5/10..  Training Loss: 0.017..  Test Loss: 0.313..  Test Accuracy: 0.906\n",
      "Epoch: 5/10..  Training Loss: 0.131..  Test Loss: 0.301..  Test Accuracy: 0.908\n",
      "Epoch: 5/10..  Training Loss: 0.246..  Test Loss: 0.291..  Test Accuracy: 0.913\n",
      "Epoch: 6/10..  Training Loss: 0.021..  Test Loss: 0.284..  Test Accuracy: 0.915\n",
      "Epoch: 6/10..  Training Loss: 0.125..  Test Loss: 0.269..  Test Accuracy: 0.922\n",
      "Epoch: 6/10..  Training Loss: 0.227..  Test Loss: 0.261..  Test Accuracy: 0.922\n",
      "Epoch: 7/10..  Training Loss: 0.024..  Test Loss: 0.254..  Test Accuracy: 0.925\n",
      "Epoch: 7/10..  Training Loss: 0.122..  Test Loss: 0.249..  Test Accuracy: 0.924\n",
      "Epoch: 7/10..  Training Loss: 0.214..  Test Loss: 0.242..  Test Accuracy: 0.926\n",
      "Epoch: 8/10..  Training Loss: 0.022..  Test Loss: 0.241..  Test Accuracy: 0.927\n",
      "Epoch: 8/10..  Training Loss: 0.108..  Test Loss: 0.227..  Test Accuracy: 0.932\n",
      "Epoch: 8/10..  Training Loss: 0.193..  Test Loss: 0.220..  Test Accuracy: 0.935\n",
      "Epoch: 9/10..  Training Loss: 0.024..  Test Loss: 0.219..  Test Accuracy: 0.934\n",
      "Epoch: 9/10..  Training Loss: 0.103..  Test Loss: 0.210..  Test Accuracy: 0.937\n",
      "Epoch: 9/10..  Training Loss: 0.179..  Test Loss: 0.203..  Test Accuracy: 0.938\n",
      "Epoch: 10/10..  Training Loss: 0.026..  Test Loss: 0.197..  Test Accuracy: 0.942\n",
      "Epoch: 10/10..  Training Loss: 0.096..  Test Loss: 0.197..  Test Accuracy: 0.940\n",
      "Epoch: 10/10..  Training Loss: 0.167..  Test Loss: 0.190..  Test Accuracy: 0.943\n"
     ]
    }
   ],
   "source": [
    "\n",
    "for e in range(epoches):\n",
    "    running_loss=0\n",
    "    for Timages,Tlabels in trainloader:\n",
    "        steps+=1 #一个batch\n",
    "\n",
    "        optimizer.zero_grad()\n",
    "\n",
    "        pre=model(Timages)\n",
    "        loss=criterion(pre,Tlabels)\n",
    "        loss.backward()\n",
    "\n",
    "        optimizer.step()\n",
    "        running_loss+=loss.item()\n",
    "\n",
    "        if steps%print_every == 0: # 50个batch 更新了50次参数\n",
    "            # 测试一下test的准确率\n",
    "            test_loss=0\n",
    "            accuracy=0\n",
    "\n",
    "            # 测试的时候参数可不能更新\n",
    "            with torch.no_grad():\n",
    "                model.eval()\n",
    "                for images,labels in testloader:\n",
    "                    pre_ps=model(images)\n",
    "                    test_loss+=criterion(pre_ps,labels)\n",
    "                    \n",
    "                    #E^X化, 这要数值都大于0\n",
    "                    ps=torch.exp(pre_ps)\n",
    "                    top_p,top_class=ps.topk(1,dim=1)\n",
    "                    # labels 是 1 行\n",
    "                    equals = top_class==labels.view(*top_class.shape)\n",
    "                    accuracy+=torch.mean(equals.type(torch.FloatTensor))\n",
    "            model.train()\n",
    "\n",
    "            train_losses.append(running_loss/len(trainloader))\n",
    "            test_losses.append(test_loss/len(testloader))\n",
    "\n",
    "            print(\"Epoch: {}/{}.. \".format(e+1, epoches),\n",
    "                  \"Training Loss: {:.3f}.. \".format(train_losses[-1]),\n",
    "                  \"Test Loss: {:.3f}.. \".format(test_losses[-1]),\n",
    "                  \"Test Accuracy: {:.3f}\".format(accuracy/len(testloader)))\n"
   ]
  },
  {
   "cell_type": "code",
   "execution_count": 11,
   "metadata": {},
   "outputs": [],
   "source": [
    "torch.save(model.state_dict(),'Model.path')"
   ]
  },
  {
   "cell_type": "code",
   "execution_count": 62,
   "metadata": {},
   "outputs": [
    {
     "data": {
      "text/plain": [
       "<matplotlib.legend.Legend at 0x2b1a1eeb108>"
      ]
     },
     "execution_count": 62,
     "metadata": {},
     "output_type": "execute_result"
    },
    {
     "data": {
      "image/png": "[encoded data removed]",
      "text/plain": [
       "<Figure size 432x288 with 1 Axes>"
      ]
     },
     "metadata": {
      "needs_background": "light"
     },
     "output_type": "display_data"
    }
   ],
   "source": [
    "plt.plot(train_losses,label='Traning loss')\n",
    "plt.plot(test_losses,label='Validation loss')\n",
    "plt.legend(frameon=False)"
   ]
  }
 ],
 "metadata": {
  "interpreter": {
   "hash": "88279d2366fe020547cde40dd65aa0e3aa662a6ec1f3ca12d88834876c85e1a6"
  },
  "kernelspec": {
   "display_name": "Python 3.7.6 ('base')",
   "language": "python",
   "name": "python3"
  },
  "language_info": {
   "codemirror_mode": {
    "name": "ipython",
    "version": 3
   },
   "file_extension": ".py",
   "mimetype": "text/x-python",
   "name": "python",
   "nbconvert_exporter": "python",
   "pygments_lexer": "ipython3",
   "version": "3.7.6"
  },
  "orig_nbformat": 4
 },
 "nbformat": 4,
 "nbformat_minor": 2
}
