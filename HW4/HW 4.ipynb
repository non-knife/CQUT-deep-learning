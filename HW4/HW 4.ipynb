{
 "cells": [
  {
   "cell_type": "code",
   "execution_count": 9,
   "metadata": {},
   "outputs": [],
   "source": [
    "import torch\n",
    "from torchvision import transforms\n",
    "from torchvision import datasets\n",
    "from torch.utils.data import DataLoader\n",
    "import torch.nn.functional as F\n",
    "import torch.optim as optim\n",
    "import matplotlib.pyplot as plt"
   ]
  },
  {
   "cell_type": "code",
   "execution_count": 10,
   "metadata": {},
   "outputs": [],
   "source": [
    "# 准备数据集\n",
    "BATCH_SIZE = 64\n",
    "transform = transforms.Compose([\n",
    "    transforms.ToTensor(),\n",
    "    transforms.Normalize((0.1307,), (0.3081,))\n",
    "])\n",
    "train_dataset = datasets.MNIST(\n",
    "    root=\"dataset\",\n",
    "    train=True,\n",
    "    download=True,\n",
    "    transform=transform\n",
    ")\n",
    "test_dataset = datasets.MNIST(\n",
    "    root=\"dataset\",\n",
    "    train=False,\n",
    "    download=True,\n",
    "    transform=transform\n",
    ")\n",
    "\n",
    "train_loader = DataLoader(train_dataset,batch_size=BATCH_SIZE,shuffle=True)\n",
    "test_loader = DataLoader(test_dataset,shuffle=False,batch_size=BATCH_SIZE)"
   ]
  },
  {
   "cell_type": "code",
   "execution_count": 11,
   "metadata": {},
   "outputs": [],
   "source": [
    "class CNN(torch.nn.Module):\n",
    "    def __init__(self):\n",
    "        super(CNN,self).__init__()\n",
    "        self.pooling = torch.nn.MaxPool2d(2)\n",
    "        self.conv1 = torch.nn.Conv2d(1,10,kernel_size=5)\n",
    "        self.conv2 = torch.nn.Conv2d(10,20,kernel_size=5)\n",
    "        self.fc = torch.nn.Linear(320,10)\n",
    "    def forward(self,x):\n",
    "        batch_size = x.size(0)\n",
    "        x = F.relu(self.pooling(self.conv1(x)))\n",
    "        x = F.relu(self.pooling(self.conv2(x)))\n",
    "        x = x.view(batch_size,-1)\n",
    "        x = self.fc(x)\n",
    "        return x\n"
   ]
  },
  {
   "cell_type": "code",
   "execution_count": 12,
   "metadata": {},
   "outputs": [
    {
     "data": {
      "text/plain": [
       "CNN(\n",
       "  (pooling): MaxPool2d(kernel_size=2, stride=2, padding=0, dilation=1, ceil_mode=False)\n",
       "  (conv1): Conv2d(1, 10, kernel_size=(5, 5), stride=(1, 1))\n",
       "  (conv2): Conv2d(10, 20, kernel_size=(5, 5), stride=(1, 1))\n",
       "  (fc): Linear(in_features=320, out_features=10, bias=True)\n",
       ")"
      ]
     },
     "execution_count": 12,
     "metadata": {},
     "output_type": "execute_result"
    }
   ],
   "source": [
    "model = CNN()\n",
    "device = 'cuda:0' if torch.cuda.is_available() else 'cpu'\n",
    "model.to(device=device)\n",
    "model"
   ]
  },
  {
   "cell_type": "code",
   "execution_count": 13,
   "metadata": {},
   "outputs": [],
   "source": [
    "LR = 1e-3\n",
    "EPOCH = 10\n",
    "criterion = torch.nn.CrossEntropyLoss()\n",
    "optimizer = optim.SGD(model.parameters(),lr=LR,momentum=0.5)"
   ]
  },
  {
   "cell_type": "code",
   "execution_count": 28,
   "metadata": {},
   "outputs": [],
   "source": [
    "def train(epoch):\n",
    "    running_loss = 0.0\n",
    "    running_ = []\n",
    "    for batch_idx, data in enumerate(train_loader):\n",
    "        inputs, target = data\n",
    "        inputs,target = inputs.to(device),target.to(device)\n",
    "\n",
    "        optimizer.zero_grad()\n",
    "        outputs = model(inputs)\n",
    "        loss = criterion(outputs, target)\n",
    "        loss.backward()\n",
    "        optimizer.step()\n",
    "        \n",
    "        running_loss += loss.item()\n",
    "        if batch_idx % 300 == 299:\n",
    "            print('[%d,%.5d] loss:%.3f' % (epoch + 1, batch_idx + 1, running_loss / 2000))\n",
    "            running_.append(running_loss / 2000)\n",
    "            running_loss = 0.0\n",
    "\n",
    "\n"
   ]
  },
  {
   "cell_type": "code",
   "execution_count": 23,
   "metadata": {},
   "outputs": [],
   "source": [
    "def test():\n",
    "    correct = 0\n",
    "    total = 0\n",
    "    with torch.no_grad():\n",
    "        for data in test_loader:\n",
    "            inputs, target = data\n",
    "            inputs,target=inputs.to(device),target.to(device)\n",
    "\n",
    "            outputs = model(inputs)\n",
    "            _,predicted = torch.max(outputs.data,dim=1)\n",
    "            total += target.size(0)\n",
    "            correct += (predicted==target).sum().item()\n",
    "    print('Accuracy on test set:%d %% [%d %d]' %(100*correct/total,correct,total))  "
   ]
  },
  {
   "cell_type": "code",
   "execution_count": 14,
   "metadata": {},
   "outputs": [
    {
     "name": "stdout",
     "output_type": "stream",
     "text": [
      "[1,00300] loss:0.283\n",
      "Accuracy on test set:78 % [7852 10000]\n",
      "[1,00600] loss:0.117\n",
      "Accuracy on test set:86 % [8601 10000]\n",
      "[1,00900] loss:0.070\n",
      "Accuracy on test set:89 % [8900 10000]\n",
      "[2,00300] loss:0.058\n",
      "Accuracy on test set:90 % [9044 10000]\n",
      "[2,00600] loss:0.049\n",
      "Accuracy on test set:91 % [9140 10000]\n",
      "[2,00900] loss:0.046\n",
      "Accuracy on test set:92 % [9205 10000]\n",
      "[3,00300] loss:0.042\n",
      "Accuracy on test set:92 % [9247 10000]\n",
      "[3,00600] loss:0.039\n",
      "Accuracy on test set:93 % [9321 10000]\n",
      "[3,00900] loss:0.037\n",
      "Accuracy on test set:93 % [9372 10000]\n",
      "[4,00300] loss:0.033\n",
      "Accuracy on test set:93 % [9398 10000]\n",
      "[4,00600] loss:0.034\n",
      "Accuracy on test set:94 % [9449 10000]\n",
      "[4,00900] loss:0.030\n",
      "Accuracy on test set:94 % [9433 10000]\n",
      "[5,00300] loss:0.029\n",
      "Accuracy on test set:95 % [9507 10000]\n",
      "[5,00600] loss:0.028\n",
      "Accuracy on test set:95 % [9522 10000]\n",
      "[5,00900] loss:0.027\n",
      "Accuracy on test set:95 % [9555 10000]\n",
      "[6,00300] loss:0.026\n",
      "Accuracy on test set:95 % [9574 10000]\n",
      "[6,00600] loss:0.025\n",
      "Accuracy on test set:95 % [9581 10000]\n",
      "[6,00900] loss:0.023\n",
      "Accuracy on test set:96 % [9605 10000]\n",
      "[7,00300] loss:0.023\n",
      "Accuracy on test set:96 % [9619 10000]\n",
      "[7,00600] loss:0.023\n",
      "Accuracy on test set:96 % [9635 10000]\n",
      "[7,00900] loss:0.020\n",
      "Accuracy on test set:96 % [9638 10000]\n",
      "[8,00300] loss:0.020\n",
      "Accuracy on test set:96 % [9639 10000]\n",
      "[8,00600] loss:0.020\n",
      "Accuracy on test set:96 % [9626 10000]\n",
      "[8,00900] loss:0.019\n",
      "Accuracy on test set:96 % [9676 10000]\n",
      "[9,00300] loss:0.020\n",
      "Accuracy on test set:96 % [9691 10000]\n",
      "[9,00600] loss:0.017\n",
      "Accuracy on test set:96 % [9688 10000]\n",
      "[9,00900] loss:0.018\n",
      "Accuracy on test set:97 % [9703 10000]\n",
      "[10,00300] loss:0.016\n",
      "Accuracy on test set:97 % [9705 10000]\n",
      "[10,00600] loss:0.018\n",
      "Accuracy on test set:97 % [9707 10000]\n",
      "[10,00900] loss:0.017\n",
      "Accuracy on test set:97 % [9719 10000]\n"
     ]
    }
   ],
   "source": [
    "running_ = []\n",
    "correct_ = []\n",
    "for epoch in range(EPOCH):\n",
    "    running_loss = 0.0\n",
    "    for batch_idx, data in enumerate(train_loader):\n",
    "        inputs, target = data\n",
    "        inputs,target = inputs.to(device),target.to(device)\n",
    "\n",
    "        optimizer.zero_grad()\n",
    "        outputs = model(inputs)\n",
    "        loss = criterion(outputs, target)\n",
    "        loss.backward()\n",
    "        optimizer.step()\n",
    "        \n",
    "        running_loss += loss.item()\n",
    "        if batch_idx % 300 == 299:\n",
    "            print('[%d,%.5d] loss:%.3f' % (epoch + 1, batch_idx + 1, running_loss / 2000))\n",
    "            running_.append(running_loss / 2000)\n",
    "            running_loss = 0.0\n",
    "\n",
    "            correct = 0\n",
    "            total = 0\n",
    "            with torch.no_grad():\n",
    "                model.eval()\n",
    "                for data in test_loader:\n",
    "                    inputs, target = data\n",
    "                    inputs,target=inputs.to(device),target.to(device)\n",
    "\n",
    "                    outputs = model(inputs)\n",
    "                    _,predicted = torch.max(outputs.data,dim=1)\n",
    "                    total += target.size(0)\n",
    "                    correct += (predicted==target).sum().item()\n",
    "            model.train()\n",
    "            correct_.append(correct/total)\n",
    "            print('Accuracy on test set:%d %% [%d %d]' %(100*correct/total,correct,total))\n",
    "            "
   ]
  },
  {
   "cell_type": "code",
   "execution_count": 21,
   "metadata": {},
   "outputs": [],
   "source": [
    "loss = []\n",
    "for i in range (len(running_)):\n",
    "    loss.append(round(running_[i],4))\n"
   ]
  },
  {
   "cell_type": "code",
   "execution_count": null,
   "metadata": {},
   "outputs": [],
   "source": []
  },
  {
   "cell_type": "code",
   "execution_count": 24,
   "metadata": {},
   "outputs": [
    {
     "data": {
      "text/plain": [
       "<matplotlib.legend.Legend at 0x21f865d1c88>"
      ]
     },
     "execution_count": 24,
     "metadata": {},
     "output_type": "execute_result"
    },
    {
     "data": {
      "image/png": "[encoded data removed]",
      "text/plain": [
       "<Figure size 432x288 with 1 Axes>"
      ]
     },
     "metadata": {
      "needs_background": "light"
     },
     "output_type": "display_data"
    }
   ],
   "source": [
    "import matplotlib.pyplot as plt\n",
    "plt.plot(loss,label=\"train loss\")\n",
    "plt.plot(correct_,label=\"acc\")\n",
    "plt.legend()"
   ]
  },
  {
   "cell_type": "code",
   "execution_count": null,
   "metadata": {},
   "outputs": [],
   "source": []
  }
 ],
 "metadata": {
  "interpreter": {
   "hash": "88279d2366fe020547cde40dd65aa0e3aa662a6ec1f3ca12d88834876c85e1a6"
  },
  "kernelspec": {
   "display_name": "Python 3.7.6 ('base')",
   "language": "python",
   "name": "python3"
  },
  "language_info": {
   "codemirror_mode": {
    "name": "ipython",
    "version": 3
   },
   "file_extension": ".py",
   "mimetype": "text/x-python",
   "name": "python",
   "nbconvert_exporter": "python",
   "pygments_lexer": "ipython3",
   "version": "3.7.6"
  },
  "orig_nbformat": 4
 },
 "nbformat": 4,
 "nbformat_minor": 2
}
